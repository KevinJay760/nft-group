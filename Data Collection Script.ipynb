{
 "cells": [
  {
   "cell_type": "code",
   "execution_count": 1,
   "id": "included-market",
   "metadata": {},
   "outputs": [],
   "source": [
    "# important packages\n",
    "import json\n",
    "import requests\n",
    "import pandas as pd\n",
    "import numpy as np"
   ]
  },
  {
   "cell_type": "markdown",
   "id": "subtle-brook",
   "metadata": {},
   "source": [
    "# Random Stuff to Test How Pulling From Asset API Works"
   ]
  },
  {
   "cell_type": "code",
   "execution_count": 18,
   "id": "casual-carrier",
   "metadata": {},
   "outputs": [],
   "source": [
    "# url\n",
    "api_endpoint = 'https://wax.api.atomicassets.io/atomicassets' \n",
    "# api key\n",
    "api_request = '/v1/assets?collection_name=mlb.topps&limit=100' \n",
    "\n",
    "url = api_endpoint + api_request"
   ]
  },
  {
   "cell_type": "code",
   "execution_count": 19,
   "id": "virtual-holder",
   "metadata": {},
   "outputs": [],
   "source": [
    "first_pull = requests.get(url).json()"
   ]
  },
  {
   "cell_type": "code",
   "execution_count": 20,
   "id": "working-kelly",
   "metadata": {},
   "outputs": [
    {
     "data": {
      "text/plain": [
       "{'contract': 'atomicassets',\n",
       " 'asset_id': '1099554126259',\n",
       " 'owner': 'n4nqw.wam',\n",
       " 'is_transferable': True,\n",
       " 'is_burnable': True,\n",
       " 'collection': {'collection_name': 'mlb.topps',\n",
       "  'name': '2021 Topps Series 1 Baseball',\n",
       "  'img': 'QmStHeaGaVMQDncrs6KVg5Jrc9Q8chNj8u6QvCN96js2Qb',\n",
       "  'author': 'mlb.topps',\n",
       "  'allow_notify': True,\n",
       "  'authorized_accounts': ['mlb.topps',\n",
       "   '4je.m.wam',\n",
       "   'config.nft',\n",
       "   'unbox.nft',\n",
       "   'sales.nft',\n",
       "   'craft.nft',\n",
       "   'premint.nft',\n",
       "   'dk2ausetup11'],\n",
       "  'notify_accounts': [],\n",
       "  'market_fee': 0.06,\n",
       "  'created_at_block': '113636159',\n",
       "  'created_at_time': '1618257661500'},\n",
       " 'schema': {'schema_name': 'promo',\n",
       "  'format': [{'name': 'name', 'type': 'string'},\n",
       "   {'name': 'rarity', 'type': 'string'},\n",
       "   {'name': 'img', 'type': 'image'},\n",
       "   {'name': 'variant', 'type': 'string'},\n",
       "   {'name': 'artist', 'type': 'string'},\n",
       "   {'name': 'legal', 'type': 'string'}],\n",
       "  'created_at_block': '114322296',\n",
       "  'created_at_time': '1618601222500'},\n",
       " 'template': {'template_id': '104049',\n",
       "  'max_supply': '0',\n",
       "  'is_transferable': True,\n",
       "  'is_burnable': True,\n",
       "  'issued_supply': '32769',\n",
       "  'immutable_data': {'img': 'QmfV5ARCxinvHWCuDEUTPUox2btuM8SZgbFRfphJBxpXFr/Topps-wood.gif',\n",
       "   'name': 'Wooden Topps Coin',\n",
       "   'legal': '®/TM & © 2021 THE TOPPS COMPANY, INC. ALL RIGHTS RESERVED.',\n",
       "   'artist': 'Steve Cup',\n",
       "   'rarity': 'Common',\n",
       "   'variant': 'Wood'},\n",
       "  'created_at_time': '1618601662000',\n",
       "  'created_at_block': '114323175'},\n",
       " 'mutable_data': {},\n",
       " 'immutable_data': {},\n",
       " 'template_mint': '32750',\n",
       " 'backed_tokens': [],\n",
       " 'burned_by_account': None,\n",
       " 'burned_at_block': None,\n",
       " 'burned_at_time': None,\n",
       " 'updated_at_block': '130261028',\n",
       " 'updated_at_time': '1626573955000',\n",
       " 'transferred_at_block': '130261028',\n",
       " 'transferred_at_time': '1626573955000',\n",
       " 'minted_at_block': '130261028',\n",
       " 'minted_at_time': '1626573955000',\n",
       " 'data': {'img': 'QmfV5ARCxinvHWCuDEUTPUox2btuM8SZgbFRfphJBxpXFr/Topps-wood.gif',\n",
       "  'name': 'Wooden Topps Coin',\n",
       "  'legal': '®/TM & © 2021 THE TOPPS COMPANY, INC. ALL RIGHTS RESERVED.',\n",
       "  'artist': 'Steve Cup',\n",
       "  'rarity': 'Common',\n",
       "  'variant': 'Wood'},\n",
       " 'name': 'Wooden Topps Coin'}"
      ]
     },
     "execution_count": 20,
     "metadata": {},
     "output_type": "execute_result"
    }
   ],
   "source": [
    "first_pull['data'][19]"
   ]
  },
  {
   "cell_type": "code",
   "execution_count": 28,
   "id": "grateful-talent",
   "metadata": {},
   "outputs": [],
   "source": [
    "# url\n",
    "api_endpoint = 'https://wax.api.atomicassets.io/atomicassets' \n",
    "# api key\n",
    "api_request = '/v1/assets?collection_name=mlb.topps&page=1500000&limit=1' \n",
    "\n",
    "url = api_endpoint + api_request"
   ]
  },
  {
   "cell_type": "code",
   "execution_count": 29,
   "id": "executive-crystal",
   "metadata": {},
   "outputs": [
    {
     "data": {
      "text/plain": [
       "{'contract': 'atomicassets',\n",
       " 'asset_id': '1099525276039',\n",
       " 'owner': '4hdbq.wam',\n",
       " 'is_transferable': True,\n",
       " 'is_burnable': True,\n",
       " 'collection': {'collection_name': 'mlb.topps',\n",
       "  'name': '2021 Topps Series 1 Baseball',\n",
       "  'img': 'QmStHeaGaVMQDncrs6KVg5Jrc9Q8chNj8u6QvCN96js2Qb',\n",
       "  'author': 'mlb.topps',\n",
       "  'allow_notify': True,\n",
       "  'authorized_accounts': ['mlb.topps',\n",
       "   '4je.m.wam',\n",
       "   'config.nft',\n",
       "   'unbox.nft',\n",
       "   'sales.nft',\n",
       "   'craft.nft',\n",
       "   'premint.nft',\n",
       "   'dk2ausetup11'],\n",
       "  'notify_accounts': [],\n",
       "  'market_fee': 0.06,\n",
       "  'created_at_block': '113636159',\n",
       "  'created_at_time': '1618257661500'},\n",
       " 'schema': {'schema_name': 'packs',\n",
       "  'format': [{'name': 'name', 'type': 'string'},\n",
       "   {'name': 'img', 'type': 'image'},\n",
       "   {'name': 'video', 'type': 'image'},\n",
       "   {'name': 'series', 'type': 'string'},\n",
       "   {'name': 'contains', 'type': 'string'},\n",
       "   {'name': 'unpack_url', 'type': 'string'},\n",
       "   {'name': 'description', 'type': 'string'},\n",
       "   {'name': 'legal', 'type': 'string'}],\n",
       "  'created_at_block': '113806873',\n",
       "  'created_at_time': '1618343146000'},\n",
       " 'template': {'template_id': '102205',\n",
       "  'max_supply': '50000',\n",
       "  'is_transferable': True,\n",
       "  'is_burnable': True,\n",
       "  'issued_supply': '50000',\n",
       "  'immutable_data': {'img': 'QmbmkQHEHeMeZNVwmfZ5SKhpTBML7ev3sQavidWq9QvsLK/Packs/Sale/topps_series1_pack_base.png',\n",
       "   'name': 'Standard Pack',\n",
       "   'legal': '®/TM & © 2021 THE TOPPS COMPANY, INC. ALL RIGHTS RESERVED. Major League Baseball trademarks and copyrights are used with permission of Major League Baseball. OFFICIALLY LICENSED PRODUCT OF MLB. Officially Licensed Product of MLB Players, Inc.',\n",
       "   'series': 'Series 1',\n",
       "   'contains': '6 Digital Collectibles',\n",
       "   'unpack_url': 'https://toppsmlb.com/unpack',\n",
       "   'description': '• 78.11% Common Collectibles\\n• 16.67% Uncommon Collectibles\\n• 4.17% Rare Collectibles\\n• 0.83% Super Rare Collectibles\\n• 0.22% Epic Collectibles'},\n",
       "  'created_at_time': '1618422174000',\n",
       "  'created_at_block': '113964505'},\n",
       " 'mutable_data': {},\n",
       " 'immutable_data': {},\n",
       " 'template_mint': '1049',\n",
       " 'backed_tokens': [],\n",
       " 'burned_by_account': None,\n",
       " 'burned_at_block': None,\n",
       " 'burned_at_time': None,\n",
       " 'updated_at_block': '115001432',\n",
       " 'updated_at_time': '1618941228000',\n",
       " 'transferred_at_block': '115001432',\n",
       " 'transferred_at_time': '1618941228000',\n",
       " 'minted_at_block': '114839732',\n",
       " 'minted_at_time': '1618860270500',\n",
       " 'data': {'img': 'QmbmkQHEHeMeZNVwmfZ5SKhpTBML7ev3sQavidWq9QvsLK/Packs/Sale/topps_series1_pack_base.png',\n",
       "  'name': 'Standard Pack',\n",
       "  'legal': '®/TM & © 2021 THE TOPPS COMPANY, INC. ALL RIGHTS RESERVED. Major League Baseball trademarks and copyrights are used with permission of Major League Baseball. OFFICIALLY LICENSED PRODUCT OF MLB. Officially Licensed Product of MLB Players, Inc.',\n",
       "  'series': 'Series 1',\n",
       "  'contains': '6 Digital Collectibles',\n",
       "  'unpack_url': 'https://toppsmlb.com/unpack',\n",
       "  'description': '• 78.11% Common Collectibles\\n• 16.67% Uncommon Collectibles\\n• 4.17% Rare Collectibles\\n• 0.83% Super Rare Collectibles\\n• 0.22% Epic Collectibles'},\n",
       " 'name': 'Standard Pack'}"
      ]
     },
     "execution_count": 29,
     "metadata": {},
     "output_type": "execute_result"
    }
   ],
   "source": [
    "test_pull2 = requests.get(url).json()['data']\n",
    "test_pull2[0]"
   ]
  },
  {
   "cell_type": "markdown",
   "id": "rubber-omega",
   "metadata": {},
   "source": [
    "# Python Script"
   ]
  },
  {
   "cell_type": "code",
   "execution_count": null,
   "id": "accredited-mongolia",
   "metadata": {},
   "outputs": [],
   "source": [
    "# make an empty pandas df\n",
    "assets_database = pd.DataFrame()\n",
    "sales_database = pd.DataFrame()\n",
    "\n",
    "# each page contains one NFT asset - each request will obtain one page\n",
    "page_counter = 1\n",
    "\n",
    "# api endpoint for ASSETS\n",
    "asset_endpoint = 'https://wax.api.atomicassets.io/atomicassets'\n",
    "\n",
    "# api endpoint for SALES\n",
    "sales_endpoint = 'https://wax.api.atomicassets.io/atomicmarket'\n",
    "\n",
    "# PERFORM UNIT TESTING \n",
    "\n",
    "while True:\n",
    "    # ADD A SLEEP FUNCTION FOR AN HOUR \n",
    "    # CONSIDER rate limits - upping the limit to a thousands\n",
    "    \n",
    "    # api key for ASSETS \n",
    "    asset_key = '/v1/assets?collection_name=mlb.topps&page={page_num}&limit=1000'.format(page_num = page_counter)\n",
    "    \n",
    "    # form the asset api to pass into the request\n",
    "    asset_api = asset_endpoint + asset_key\n",
    "    \n",
    "    # pull an asset from the API  \n",
    "    asset_pull = requests.get(asset_api).json()['data']\n",
    "    \n",
    "    # exit the loop if there are no more assets to pull\n",
    "    if len(asset_pull) < 1000: \n",
    "        # add the rest of the\n",
    "        break\n",
    "        \n",
    "    # iterate through the array of assets - add each asset to a pandas csv \n",
    "    \n",
    "    # itearte through each of the 1000 assets in the pull and get their sales via asset id \n",
    "    # put this in a loop - ADD ANOTHER SLEEP FUNCION IN THE MARKET LOOP \n",
    "    # \n",
    "    \n",
    "    # obtain the asset from the api pull request\n",
    "    asset = asset_pull[0]\n",
    "    \n",
    "    # LINE OF CODE TO SOMEHOW STORE THE ASSET (CSV, ARRAY, ETC.)\n",
    "    asset_database = ...\n",
    "    \n",
    "    # obtain the id of the current asset \n",
    "    asset_id = asset['asset_id']\n",
    "    \n",
    "    # api key for SALES of a given asset\n",
    "    sales_key = ... # see cells below \n",
    "    \n",
    "    # form the sales api to pass into the request\n",
    "    sales_api = sales_endpoint + sales_key\n",
    "    \n",
    "    # pull the sales of that ASSET from the API\n",
    "    sales_pull = requests.get(sales_api).json['data']\n",
    "    \n",
    "    # \n",
    "    # ADD TO PANDAS DATABASE\n",
    "    \n",
    "    # increment the page counter to pull a different asset on the next iteration\n",
    "    page_counter += 1"
   ]
  },
  {
   "cell_type": "markdown",
   "id": "filled-upset",
   "metadata": {},
   "source": [
    "# Testing Sales"
   ]
  },
  {
   "cell_type": "code",
   "execution_count": 148,
   "id": "extra-stations",
   "metadata": {},
   "outputs": [],
   "source": [
    "# api endpoint\n",
    "sales_endpoint = 'https://wax.api.atomicassets.io/atomicmarket'"
   ]
  },
  {
   "cell_type": "code",
   "execution_count": 172,
   "id": "international-being",
   "metadata": {},
   "outputs": [
    {
     "data": {
      "text/plain": [
       "'https://wax.api.atomicassets.io/atomicmarket/v1/sales?asset_id=1099554263666'"
      ]
     },
     "execution_count": 172,
     "metadata": {},
     "output_type": "execute_result"
    }
   ],
   "source": [
    "# add a state for sold, listed, etc.. ask the team about this \n",
    "# STATE parameter - NOT NEEDED\n",
    "sales_key = 'https://wax.api.atomicassets.io/atomicmarket/v1/sales?asset_id=1099554263666'\n",
    "url = sales_endpoint + sales_key\n",
    "url"
   ]
  },
  {
   "cell_type": "code",
   "execution_count": 174,
   "id": "speaking-egypt",
   "metadata": {},
   "outputs": [
    {
     "data": {
      "text/plain": [
       "[]"
      ]
     },
     "execution_count": 174,
     "metadata": {},
     "output_type": "execute_result"
    }
   ],
   "source": [
    "x = requests.get('https://wax.api.atomicassets.io/atomicmarket/v1/sales?asset_id=1099554263666&state=3').json()['data']\n",
    "x"
   ]
  },
  {
   "cell_type": "code",
   "execution_count": null,
   "id": "numerical-carpet",
   "metadata": {},
   "outputs": [],
   "source": []
  }
 ],
 "metadata": {
  "kernelspec": {
   "display_name": "Python 3",
   "language": "python",
   "name": "python3"
  },
  "language_info": {
   "codemirror_mode": {
    "name": "ipython",
    "version": 3
   },
   "file_extension": ".py",
   "mimetype": "text/x-python",
   "name": "python",
   "nbconvert_exporter": "python",
   "pygments_lexer": "ipython3",
   "version": "3.8.5"
  }
 },
 "nbformat": 4,
 "nbformat_minor": 5
}
