{
 "cells": [
  {
   "cell_type": "code",
   "execution_count": null,
   "id": "included-market",
   "metadata": {},
   "outputs": [],
   "source": [
    "# important packages\n",
    "import json\n",
    "import requests\n",
    "import pandas as pd\n",
    "import numpy as np\n",
    "import time"
   ]
  },
  {
   "cell_type": "markdown",
   "id": "subtle-brook",
   "metadata": {},
   "source": [
    "# Random Stuff to Test How Pulling From Asset API Works"
   ]
  },
  {
   "cell_type": "code",
   "execution_count": null,
   "id": "casual-carrier",
   "metadata": {},
   "outputs": [],
   "source": [
    "# url\n",
    "api_endpoint = 'https://wax.api.atomicassets.io/atomicassets' \n",
    "# api key\n",
    "api_request = '/v1/assets?collection_name=mlb.topps&limit=100' \n",
    "\n",
    "url = api_endpoint + api_request"
   ]
  },
  {
   "cell_type": "code",
   "execution_count": null,
   "id": "virtual-holder",
   "metadata": {},
   "outputs": [],
   "source": [
    "first_pull = requests.get(url).json()"
   ]
  },
  {
   "cell_type": "code",
   "execution_count": null,
   "id": "working-kelly",
   "metadata": {},
   "outputs": [],
   "source": [
    "first_pull['data'][19]"
   ]
  },
  {
   "cell_type": "code",
   "execution_count": null,
   "id": "grateful-talent",
   "metadata": {},
   "outputs": [],
   "source": [
    "# url\n",
    "api_endpoint = 'https://wax.api.atomicassets.io/atomicassets' \n",
    "# api key\n",
    "api_request = '/v1/assets?collection_name=mlb.topps&page=1500000&limit=1' \n",
    "\n",
    "url = api_endpoint + api_request"
   ]
  },
  {
   "cell_type": "code",
   "execution_count": null,
   "id": "executive-crystal",
   "metadata": {},
   "outputs": [],
   "source": [
    "test_pull2 = requests.get(url).json()['data']\n",
    "test_pull2[0]"
   ]
  },
  {
   "cell_type": "markdown",
   "id": "rubber-omega",
   "metadata": {},
   "source": [
    "# Python Script"
   ]
  },
  {
   "cell_type": "code",
   "execution_count": null,
   "id": "accredited-mongolia",
   "metadata": {},
   "outputs": [],
   "source": [
    "# make an empty pandas df\n",
    "assets_database = pd.DataFrame()\n",
    "sales_database = pd.DataFrame()\n",
    "\n",
    "# each page contains one NFT asset - each request will obtain one page\n",
    "page_counter = 1\n",
    "\n",
    "# api endpoint for ASSETS\n",
    "asset_endpoint = 'https://wax.api.atomicassets.io/atomicassets'\n",
    "\n",
    "# api endpoint for SALES\n",
    "sales_endpoint = 'https://wax.api.atomicassets.io/atomicmarket'\n",
    "\n",
    "\n",
    "\n",
    "# PERFORM UNIT TESTING\n",
    "#for i in range(1):\n",
    "while True:\n",
    "    # api key for ASSETS \n",
    "    asset_key = '/v1/assets?collection_name=mlb.topps&page={page_num}&limit=1000&order=asc'.format(page_num = page_counter)\n",
    "    \n",
    "    # form the asset api to pass into the request\n",
    "    asset_api = asset_endpoint + asset_key\n",
    "    \n",
    "    # pull an asset from the API  \n",
    "    #Because a KeyError is thrown if the rate limit is passed, the try-except block will see when rate limit is passed\n",
    "    #and keeps on looping until no more error is thrown.\n",
    "    try:\n",
    "        asset_pull = requests.get(asset_api).json()['data']\n",
    "\n",
    "    except Exception as e:\n",
    "        time.sleep(1)\n",
    "        continue\n",
    "        \n",
    "    # exit the loop if there are no more assets to pull\n",
    "    #if len(asset_pull) < 1000:\n",
    "        ##Uncomment below if we want to continue pulling data once we pulled all currently available data\n",
    "        #time.sleep(0.45)\n",
    "        #continue\n",
    "        #break\n",
    "        \n",
    "    # iterate through the array of assets - add each asset to a pandas csv\n",
    "    \n",
    "    assets_database = assets_database.append(pd.DataFrame.from_dict(asset_pull))\n",
    "    \n",
    "    # itearte through each of the 1000 assets in the pull and get their sales via asset id \n",
    "    for j in range(len(asset_pull)):\n",
    "        # obtain the assets from the api pull request\n",
    "        asset = asset_pull[j]\n",
    "        \n",
    "        # obtain the id of the current asset \n",
    "        asset_id = asset['asset_id']\n",
    "        sales_page=1\n",
    "        while True:\n",
    "            # api key for SALES of a given asset\n",
    "            sales_key = '/v1/sales?collection_whitelist=mlb.topps&page={page_num}&asset_id={ID}&limit=100'.format(ID= asset_id, page_num=sales_page) # see cells below \n",
    "    \n",
    "            # form the sales api to pass into the request\n",
    "            sales_api = sales_endpoint + sales_key\n",
    "           \n",
    "            try:\n",
    "                 # pull the sales of that ASSET from the API\n",
    "                sales_pull = requests.get(sales_api).json()['data']\n",
    "                # ADD TO PANDAS DATABASE\n",
    "                sales_database=sales_database.append(pd.DataFrame.from_dict(sales_pull))\n",
    "            except Exception as e:\n",
    "                print(e)\n",
    "                time.sleep(1)\n",
    "                continue\n",
    "            \n",
    "            if len(sales_pull) <100:\n",
    "                break\n",
    "            sales_page +=1\n",
    "        \n",
    "       \n",
    "    \n",
    "    # increment the page counter to pull a different asset on the next iteration\n",
    "    page_counter += 1\n",
    "        \n",
    "assets_database"
   ]
  },
  {
   "cell_type": "code",
   "execution_count": null,
   "id": "06fd7933",
   "metadata": {},
   "outputs": [],
   "source": [
    "#Testing uniqueness of data\n",
    "\n",
    "#assets_database.iloc[1000]\n",
    "#len(pd.unique(assets_database['asset_id']))\n",
    "assets_database"
   ]
  },
  {
   "cell_type": "markdown",
   "id": "filled-upset",
   "metadata": {},
   "source": [
    "# Testing Sales"
   ]
  },
  {
   "cell_type": "code",
   "execution_count": null,
   "id": "extra-stations",
   "metadata": {},
   "outputs": [],
   "source": [
    "# api endpoint\n",
    "sales_endpoint = 'https://wax.api.atomicassets.io/atomicmarket'"
   ]
  },
  {
   "cell_type": "code",
   "execution_count": null,
   "id": "international-being",
   "metadata": {},
   "outputs": [],
   "source": [
    "# add a state for sold, listed, etc.. ask the team about this \n",
    "# STATE parameter - NOT NEEDED\n",
    "sales_key = 'https://wax.api.atomicassets.io/atomicmarket/v1/sales?asset_id=1099554263666'\n",
    "url = sales_endpoint + sales_key\n",
    "url"
   ]
  },
  {
   "cell_type": "code",
   "execution_count": null,
   "id": "speaking-egypt",
   "metadata": {},
   "outputs": [],
   "source": [
    "x = requests.get('https://wax.api.atomicassets.io/atomicmarket/v1/sales?asset_id=1099554263666&state=3').json()['data']\n",
    "x"
   ]
  },
  {
   "cell_type": "code",
   "execution_count": null,
   "id": "numerical-carpet",
   "metadata": {},
   "outputs": [],
   "source": []
  }
 ],
 "metadata": {
  "kernelspec": {
   "display_name": "Python 3",
   "language": "python",
   "name": "python3"
  },
  "language_info": {
   "codemirror_mode": {
    "name": "ipython",
    "version": 3
   },
   "file_extension": ".py",
   "mimetype": "text/x-python",
   "name": "python",
   "nbconvert_exporter": "python",
   "pygments_lexer": "ipython3",
   "version": "3.9.4"
  }
 },
 "nbformat": 4,
 "nbformat_minor": 5
}
